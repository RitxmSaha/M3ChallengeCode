{
 "cells": [
  {
   "cell_type": "code",
   "execution_count": 38,
   "metadata": {},
   "outputs": [],
   "source": [
    "import random\n",
    "from scipy.stats import skewnorm"
   ]
  },
  {
   "cell_type": "code",
   "execution_count": 39,
   "metadata": {},
   "outputs": [],
   "source": [
    "# Define constants\n",
    "n_owners = 2856.86 * 1000 # Number of e-bike owners in 2023\n",
    "n = 1796\n",
    "\n",
    "t_att = 1063 # Number of trips that would have been taken by active transportation or transit\n",
    "t_car = 1778 # Number of trips that would have been taken by automobile\n",
    "t_no = 987 # Number of trips that wouldn't have been taken\n",
    "\n",
    "d_att = 9.4 # Sample mean distance of trips that would have been taken by active transportation or transit\n",
    "d_car = 9.3 # Sample mean distance of trips that would have been taken by automobile\n",
    "d_no = 14.3 # Sample mean distance of trips that would not have been taken\n",
    "\n",
    "sigma_att = 10 # Standard deviation of distance of trips that would have been taken by active transportation or transit\n",
    "sigma_car = 10 # Standard deviation of distance of trips that would have been taken by automobile\n",
    "sigma_no = 10 # Standard deviation of distance of trips that would not have been taken\n",
    "\n",
    "p_daily = 0.492 # Proportion of electric bike owners who take an e-bike trip daily\n",
    "p_weekly = 0.423 # Proportion of electric bike owners who take an e-bike trip once a week\n",
    "p_monthly = 0.058 # Proportion of electric bike owners who take an e-bike trip monthly\n",
    "p_fewyearly = 0.018 # Proportion of electric bike owners who take an e-bike trip a few times a year\n",
    "p_never = 0.009 # Proportion of electric bike owners who have never taken an e-bike trip\n",
    "\n",
    "# Simple mean of g CO2/mi produced for modes of transport included in active \n",
    "# transportation or transit (walking, biking, trains, light rail/metro, buses)\n",
    "emissions_att = ((0 + 21 + 50 + 75 + 111) / 5) / 0.621371\n",
    "\n",
    "emissions_car = 271 / 0.621371 # g CO2/mi travelled produced by automobiles\n",
    "\n",
    "emissions_ebike = 22 / 0.621371 # g CO2/mi travelled produced by e-bikes\n",
    "\n",
    "# Trials of the simulation\n",
    "trials = 10000\n",
    "\n",
    "skew = 3"
   ]
  },
  {
   "cell_type": "code",
   "execution_count": 40,
   "metadata": {},
   "outputs": [],
   "source": [
    "# Define computed values\n",
    "t = t_att + t_car + t_no # Total number of trips taken\n",
    "\n",
    "p_att = t_att / t # Proportion of trips that would have been taken by active transportation or transit\n",
    "p_car = t_car / t # Proportion of trips that would have been taken by automobile\n",
    "p_no = t_no / t # Proportion of trips that would not have been taken\n",
    "\n",
    "# Distances sampled from a normal distribution using sample mean and standard deviation\n",
    "dist_d_att, drawn_att = skewnorm.rvs(a=skew, loc=d_att, scale=sigma_att, size=trials * 24 * 365), 0\n",
    "dist_d_car, drawn_car = skewnorm.rvs(a=skew, loc=d_car, scale=sigma_car, size=trials * 24 * 365), 0\n",
    "dist_d_no, drawn_no = skewnorm.rvs(a=skew, loc=d_no, scale=sigma_no, size=trials * 24 * 365), 0\n",
    "\n",
    "# Average number of e-bike trips an e-bike owner takes per year\n",
    "t_avg = 365 * p_daily + 52 * p_weekly + 12 * p_monthly + 3 * p_fewyearly + 0 * p_never\n",
    "\n",
    "p_t_hourly = t_avg / (365 * 24) # Probability of a trip being taken at any given hour for an e-bike owner"
   ]
  },
  {
   "cell_type": "code",
   "execution_count": 41,
   "metadata": {},
   "outputs": [],
   "source": [
    "result_diff = []\n",
    "for x in range(trials): # Trials of simulation\n",
    "    # Miles driven in this simulation by active transportation or transit, by car, and by e-bike respectively\n",
    "    miles_att, miles_car, miles_ebike = 0, 0, 0\n",
    "\n",
    "    for hour in range(365 * 24): # For each hour of the year\n",
    "        # We take a e-bike trip during this hour with the probability p_t_hourly\n",
    "        if random.random() > p_t_hourly:\n",
    "            continue\n",
    "\n",
    "        type_of_trip = random.random()\n",
    "\n",
    "        # Take one of three types of e-bike trips:\n",
    "        # 1. A trip that would have been taken by active transportation or transit (p = p_att)\n",
    "        # 2. A trip that would have been taken by automobile (p = p_car)\n",
    "        # 3. A trip that would not have been taken (p = p_att)\n",
    "\n",
    "        if type_of_trip < p_att: # Active transportation or transit trip\n",
    "            # Draw distance from a normal distribution using the sample mean and standard deviation\n",
    "            d = dist_d_att[drawn_att]\n",
    "            drawn_att += 1\n",
    "\n",
    "            miles_att += d\n",
    "            miles_ebike += d\n",
    "        elif p_att <= type_of_trip < p_att + p_car: # Automobile trip\n",
    "            d = dist_d_car[drawn_car]\n",
    "            drawn_car += 1\n",
    "\n",
    "            miles_car += d\n",
    "            miles_ebike += d\n",
    "        else: # Trip that would not have been taken\n",
    "            d = dist_d_no[drawn_no]\n",
    "            drawn_no += 1\n",
    "\n",
    "            miles_ebike += d\n",
    "    \n",
    "    # Total CO2 that would have generated without an e-bike\n",
    "    co2_no_ebike = miles_att * emissions_att + miles_car * emissions_car\n",
    "\n",
    "    # Total CO2 generated with e-bike\n",
    "    co2_ebike = miles_ebike * emissions_ebike\n",
    "\n",
    "    result_diff.append(co2_no_ebike - co2_ebike)\n"
   ]
  },
  {
   "cell_type": "code",
   "execution_count": 42,
   "metadata": {},
   "outputs": [],
   "source": [
    "import seaborn as sns\n",
    "import pandas as pd\n",
    "import numpy as np"
   ]
  },
  {
   "cell_type": "code",
   "execution_count": 47,
   "metadata": {},
   "outputs": [
    {
     "data": {
      "text/plain": [
       "[Text(0.5, 0, 'Tons of CO2 mitigated'),\n",
       " Text(0, 0.5, 'Count'),\n",
       " Text(0.5, 1.0, 'Simulated Tons of CO2 Mitigated')]"
      ]
     },
     "execution_count": 47,
     "metadata": {},
     "output_type": "execute_result"
    },
    {
     "data": {
      "image/png": "[encoded data removed]",
      "text/plain": [
       "<Figure size 432x288 with 1 Axes>"
      ]
     },
     "metadata": {
      "needs_background": "light"
     },
     "output_type": "display_data"
    }
   ],
   "source": [
    "# Convert grams to metric tons\n",
    "result_diff = np.array(result_diff) / 1000000\n",
    "image = sns.histplot(data=result_diff)\n",
    "image.set(xlabel=\"Tons of CO2 mitigated\", ylabel=\"Count\", title=\"Simulated Tons of CO2 Mitigated\")"
   ]
  },
  {
   "cell_type": "code",
   "execution_count": 44,
   "metadata": {},
   "outputs": [
    {
     "data": {
      "text/plain": [
       "<AxesSubplot:ylabel='Count'>"
      ]
     },
     "execution_count": 44,
     "metadata": {},
     "output_type": "execute_result"
    },
    {
     "data": {
      "image/png": "[encoded data removed]",
      "text/plain": [
       "<Figure size 432x288 with 1 Axes>"
      ]
     },
     "metadata": {
      "needs_background": "light"
     },
     "output_type": "display_data"
    }
   ],
   "source": []
  }
 ],
 "metadata": {
  "kernelspec": {
   "display_name": "ml",
   "language": "python",
   "name": "python3"
  },
  "language_info": {
   "codemirror_mode": {
    "name": "ipython",
    "version": 3
   },
   "file_extension": ".py",
   "mimetype": "text/x-python",
   "name": "python",
   "nbconvert_exporter": "python",
   "pygments_lexer": "ipython3",
   "version": "3.9.7"
  },
  "orig_nbformat": 4
 },
 "nbformat": 4,
 "nbformat_minor": 2
}
